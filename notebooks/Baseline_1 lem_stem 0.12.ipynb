{
 "cells": [
  {
   "cell_type": "code",
   "execution_count": 19,
   "metadata": {},
   "outputs": [
    {
     "name": "stderr",
     "output_type": "stream",
     "text": [
      "[nltk_data] Downloading package punkt to\n",
      "[nltk_data]     C:\\Users\\sorok\\AppData\\Roaming\\nltk_data...\n",
      "[nltk_data]   Package punkt is already up-to-date!\n",
      "[nltk_data] Downloading package stopwords to\n",
      "[nltk_data]     C:\\Users\\sorok\\AppData\\Roaming\\nltk_data...\n",
      "[nltk_data]   Package stopwords is already up-to-date!\n"
     ]
    }
   ],
   "source": [
    "import pandas as pd\n",
    "import nltk\n",
    "import numpy as np\n",
    "nltk.download('punkt')\n",
    "nltk.download('stopwords')\n",
    "from nltk.tokenize import sent_tokenize, word_tokenize\n",
    "from nltk.corpus import stopwords\n",
    "from pymorphy2 import MorphAnalyzer\n",
    "import seaborn as sns\n",
    "import matplotlib.pyplot as plt\n",
    "from sklearn.model_selection import train_test_split\n",
    "from sklearn.metrics import r2_score\n",
    "import re\n",
    "import string\n",
    "from gensim.models import Word2Vec\n",
    "from nltk import word_tokenize\n",
    "from nltk.corpus import stopwords\n",
    "\n",
    "from sklearn.cluster import MiniBatchKMeans\n",
    "from sklearn.metrics import silhouette_samples, silhouette_score\n",
    "from sklearn.cluster import KMeans\n",
    "\n",
    "#pip install googletrans==3.1.0a0 что бы заработал !!!!!!!!!!!!!!!!!!!!!!!!!!!!!!\n",
    "import googletrans\n",
    "from googletrans import Translator\n",
    "\n",
    "SEED = 100"
   ]
  },
  {
   "cell_type": "markdown",
   "metadata": {},
   "source": [
    "## Коротко основная идея.  \n",
    "#### Работает команда разработчиков, выполняют задачи и каждая задача занимает какое-то количество времени. Есть датафрейм train в котором собраны в том числе описание задачи (может быть на русском и на английском), идентификатор проекта, заказчик задачи, исполнитель задачи и целевая переменная - время выполнения задачи. Кроме того, есть датафрейм с комментариями/перепиской к каждой задаче (есть задачи которые не сопровождались перепиской и по ним нет комментарием) и есть датафрейм который несет в себе описание заказчиков и исполнителей, он больше похож на выписку из отдела кадров. Задача - научится предсказывать время выполнения задачи.  \n",
    "#### Основная идея/идеи: откинуть выбросы, отобрать значимые признаки из того что есть, обработать текстовые данные, кластеризовать задачи, извлеч что-то полезное из комментариев (удалось, ввести признак количества комментариев по задаче и кластеризовать \"суммарные\" комментарии)  и сделать предсказание градиентным бустингом. Метрика оценки R2."
   ]
  },
  {
   "cell_type": "code",
   "execution_count": 2,
   "metadata": {},
   "outputs": [],
   "source": [
    "train_issues = pd.read_csv('train_issues.csv')\n",
    "train_comments = pd.read_csv('train_comments.csv')\n",
    "test_issues = pd.read_csv('test_issues.csv')\n",
    "test_comments = pd.read_csv('test_comments.csv')\n",
    "employees = pd.read_csv('employees.csv')\n",
    "sample_solution = pd.read_csv('sample_solution.csv')"
   ]
  },
  {
   "cell_type": "markdown",
   "metadata": {},
   "source": [
    "### В текстах есть рускоязычные и англоязычные объекты, в какой-то момент оказалось эффективным сделать перевод с русского на английский и далее работать уже с английскими текстами.  \n",
    "### Код ниже делает перевод данных на английский и сохраняет его."
   ]
  },
  {
   "cell_type": "code",
   "execution_count": 24,
   "metadata": {},
   "outputs": [],
   "source": [
    "#translator = Translator()\n",
    "#def trans_lator(text):\n",
    "#    result = translator.translate(text, src='ru', dest='en') \n",
    "#    return result.text\n",
    "\n",
    "#train_issues['summary'] = train_issues['summary'].apply(trans_lator)\n",
    "#train_issues.to_csv('train_issues_en.csv', index=False)\n",
    "\n",
    "#test_issues['summary'] = test_issues['summary'].apply(trans_lator)\n",
    "#test_issues.to_csv('test_issues_en.csv', index=False)\n",
    "\n",
    "#train_comments['text'] = train_comments['text'].apply(trans_lator)\n",
    "#train_comments.to_csv('train_comments_en.csv', index=False)\n",
    "\n",
    "#test_comments['text'] = test_comments['text'].apply(trans_lator)\n",
    "#test_comments.to_csv('test_comments_en.csv', index=False)\n"
   ]
  },
  {
   "cell_type": "code",
   "execution_count": 3,
   "metadata": {},
   "outputs": [],
   "source": [
    "# перевод на английский только описаний дает 0.0997 перевод еще и комментов понижает на чуть чуть результат\n",
    "train_issues = pd.read_csv('train_issues_en.csv')\n",
    "test_issues = pd.read_csv('test_issues_en.csv')\n",
    "#train_comments = pd.read_csv('train_comments_en.csv')\n",
    "#test_comments = pd.read_csv('test_comments_en.csv')"
   ]
  },
  {
   "cell_type": "markdown",
   "metadata": {},
   "source": [
    "## Посмотрим на train"
   ]
  },
  {
   "cell_type": "code",
   "execution_count": 4,
   "metadata": {},
   "outputs": [
    {
     "name": "stdout",
     "output_type": "stream",
     "text": [
      "Записей в train 9589 , Записей в test 1070\n",
      "Начальная дата train 2017-10-05 10:01:14.000\n",
      "Конечная дата train 2021-02-12 20:44:45.000\n",
      "Начальная дата test 2020-01-15 09:52:57.000\n",
      "Конечная дата test 2021-07-23 13:28:04.185\n",
      "project_id в train 7 , project_id в test 7\n",
      "assignee_id в train 51 , asiignee_id в test 28\n",
      "creator_id в train 52 , creator_id в test 27\n"
     ]
    },
    {
     "data": {
      "text/html": [
       "<div>\n",
       "<style scoped>\n",
       "    .dataframe tbody tr th:only-of-type {\n",
       "        vertical-align: middle;\n",
       "    }\n",
       "\n",
       "    .dataframe tbody tr th {\n",
       "        vertical-align: top;\n",
       "    }\n",
       "\n",
       "    .dataframe thead th {\n",
       "        text-align: right;\n",
       "    }\n",
       "</style>\n",
       "<table border=\"1\" class=\"dataframe\">\n",
       "  <thead>\n",
       "    <tr style=\"text-align: right;\">\n",
       "      <th></th>\n",
       "      <th>id</th>\n",
       "      <th>created</th>\n",
       "      <th>key</th>\n",
       "      <th>summary</th>\n",
       "      <th>project_id</th>\n",
       "      <th>assignee_id</th>\n",
       "      <th>creator_id</th>\n",
       "      <th>overall_worklogs</th>\n",
       "    </tr>\n",
       "  </thead>\n",
       "  <tbody>\n",
       "    <tr>\n",
       "      <th>0</th>\n",
       "      <td>819952</td>\n",
       "      <td>2019-10-01 05:57:18.000</td>\n",
       "      <td>SM-10678</td>\n",
       "      <td>UI tests commissioned by Dobro KG</td>\n",
       "      <td>5</td>\n",
       "      <td>93</td>\n",
       "      <td>93</td>\n",
       "      <td>1800</td>\n",
       "    </tr>\n",
       "    <tr>\n",
       "      <th>1</th>\n",
       "      <td>819949</td>\n",
       "      <td>2019-10-01 05:59:45.000</td>\n",
       "      <td>SM-10679</td>\n",
       "      <td>UI tests of the \"Profile\" section</td>\n",
       "      <td>5</td>\n",
       "      <td>93</td>\n",
       "      <td>93</td>\n",
       "      <td>7200</td>\n",
       "    </tr>\n",
       "    <tr>\n",
       "      <th>2</th>\n",
       "      <td>819947</td>\n",
       "      <td>2019-10-01 06:00:38.000</td>\n",
       "      <td>SM-10680</td>\n",
       "      <td>UI tests of the section \"Personal account\"</td>\n",
       "      <td>5</td>\n",
       "      <td>93</td>\n",
       "      <td>93</td>\n",
       "      <td>14400</td>\n",
       "    </tr>\n",
       "    <tr>\n",
       "      <th>3</th>\n",
       "      <td>819943</td>\n",
       "      <td>2019-10-01 06:02:49.000</td>\n",
       "      <td>SM-10682</td>\n",
       "      <td>UI tests of the \"News\" section</td>\n",
       "      <td>5</td>\n",
       "      <td>93</td>\n",
       "      <td>93</td>\n",
       "      <td>900</td>\n",
       "    </tr>\n",
       "    <tr>\n",
       "      <th>4</th>\n",
       "      <td>819941</td>\n",
       "      <td>2019-10-01 06:03:26.000</td>\n",
       "      <td>SM-10683</td>\n",
       "      <td>UI tests of the \"Zones of discounts and surcha...</td>\n",
       "      <td>5</td>\n",
       "      <td>93</td>\n",
       "      <td>93</td>\n",
       "      <td>900</td>\n",
       "    </tr>\n",
       "  </tbody>\n",
       "</table>\n",
       "</div>"
      ],
      "text/plain": [
       "       id                  created       key  \\\n",
       "0  819952  2019-10-01 05:57:18.000  SM-10678   \n",
       "1  819949  2019-10-01 05:59:45.000  SM-10679   \n",
       "2  819947  2019-10-01 06:00:38.000  SM-10680   \n",
       "3  819943  2019-10-01 06:02:49.000  SM-10682   \n",
       "4  819941  2019-10-01 06:03:26.000  SM-10683   \n",
       "\n",
       "                                             summary  project_id  assignee_id  \\\n",
       "0                  UI tests commissioned by Dobro KG           5           93   \n",
       "1                  UI tests of the \"Profile\" section           5           93   \n",
       "2         UI tests of the section \"Personal account\"           5           93   \n",
       "3                     UI tests of the \"News\" section           5           93   \n",
       "4  UI tests of the \"Zones of discounts and surcha...           5           93   \n",
       "\n",
       "   creator_id  overall_worklogs  \n",
       "0          93              1800  \n",
       "1          93              7200  \n",
       "2          93             14400  \n",
       "3          93               900  \n",
       "4          93               900  "
      ]
     },
     "execution_count": 4,
     "metadata": {},
     "output_type": "execute_result"
    }
   ],
   "source": [
    "print('Записей в train', train_issues.shape[0], ', Записей в test', test_issues.shape[0])\n",
    "print('Начальная дата train', train_issues['created'].min())\n",
    "print('Конечная дата train', train_issues['created'].max())\n",
    "print('Начальная дата test', test_issues['created'].min())\n",
    "print('Конечная дата test', test_issues['created'].max())\n",
    "print('project_id в train', train_issues['project_id'].value_counts().count(), ', project_id в test', test_issues['project_id'].value_counts().count())\n",
    "print('assignee_id в train', train_issues['assignee_id'].value_counts().count(), ', asiignee_id в test', test_issues['assignee_id'].value_counts().count())\n",
    "print('creator_id в train', train_issues['creator_id'].value_counts().count(), ', creator_id в test', test_issues['creator_id'].value_counts().count())\n",
    "train_issues.head()"
   ]
  },
  {
   "cell_type": "code",
   "execution_count": 5,
   "metadata": {},
   "outputs": [
    {
     "data": {
      "image/png": "[encoded data removed]",
      "text/plain": [
       "<Figure size 864x432 with 4 Axes>"
      ]
     },
     "metadata": {
      "needs_background": "light"
     },
     "output_type": "display_data"
    }
   ],
   "source": [
    "_ = train_issues[['project_id', 'assignee_id', 'creator_id', 'overall_worklogs']].hist(figsize=(12,6), bins = 100)"
   ]
  },
  {
   "cell_type": "code",
   "execution_count": 6,
   "metadata": {},
   "outputs": [
    {
     "name": "stdout",
     "output_type": "stream",
     "text": [
      "min/mean/max время выполнения 60 / 17244 / 7014000\n",
      "Количество записей со значением >50000 485\n",
      "Количество записей со значением >100000 158\n",
      "Количество записей со значением <600 101\n",
      "Количество записей со значением <1000 633\n"
     ]
    }
   ],
   "source": [
    "print('min/mean/max время выполнения', train_issues['overall_worklogs'].min(), '/', round(train_issues['overall_worklogs'].mean()), '/', train_issues['overall_worklogs'].max())\n",
    "print('Количество записей со значением >50000', train_issues[train_issues['overall_worklogs']>50000].value_counts().count())\n",
    "print('Количество записей со значением >100000', train_issues[train_issues['overall_worklogs']>100000].value_counts().count())\n",
    "print('Количество записей со значением <600', train_issues[train_issues['overall_worklogs']<600].value_counts().count())\n",
    "print('Количество записей со значением <1000', train_issues[train_issues['overall_worklogs']<1000].value_counts().count())"
   ]
  },
  {
   "cell_type": "markdown",
   "metadata": {},
   "source": [
    "### Посмотрим на распределение целевой переменной"
   ]
  },
  {
   "cell_type": "code",
   "execution_count": 7,
   "metadata": {},
   "outputs": [
    {
     "data": {
      "image/png": "[encoded data removed]",
      "text/plain": [
       "<Figure size 864x432 with 1 Axes>"
      ]
     },
     "metadata": {
      "needs_background": "light"
     },
     "output_type": "display_data"
    }
   ],
   "source": [
    "# распределение целевой переменной < 100000\n",
    "_ = train_issues[train_issues['overall_worklogs']<100000]['overall_worklogs'].hist(figsize=(12,6), bins = 100)"
   ]
  },
  {
   "cell_type": "code",
   "execution_count": 8,
   "metadata": {},
   "outputs": [
    {
     "data": {
      "image/png": "[encoded data removed]",
      "text/plain": [
       "<Figure size 864x432 with 1 Axes>"
      ]
     },
     "metadata": {
      "needs_background": "light"
     },
     "output_type": "display_data"
    }
   ],
   "source": [
    "# распределение прологарифмированной целевой переменной по всем значениям\n",
    "_ = np.log(train_issues[train_issues['overall_worklogs']<1000000000]['overall_worklogs']).hist(figsize=(12,6), bins = 100)"
   ]
  },
  {
   "cell_type": "markdown",
   "metadata": {},
   "source": [
    "### В процессе исследования оказалось что выбросами можно считать все значения целевой переменной которые меньше 600 и больше 100000."
   ]
  },
  {
   "cell_type": "code",
   "execution_count": 9,
   "metadata": {},
   "outputs": [],
   "source": [
    "# откинем выбросы\n",
    "train_issues = train_issues[(train_issues['overall_worklogs']<100000)&(train_issues['overall_worklogs']>600)]"
   ]
  },
  {
   "cell_type": "markdown",
   "metadata": {},
   "source": [
    "## Посмотрим на тексты"
   ]
  },
  {
   "cell_type": "code",
   "execution_count": 10,
   "metadata": {},
   "outputs": [
    {
     "name": "stdout",
     "output_type": "stream",
     "text": [
      "Комментариев в трейне 13918\n"
     ]
    },
    {
     "data": {
      "text/html": [
       "<div>\n",
       "<style scoped>\n",
       "    .dataframe tbody tr th:only-of-type {\n",
       "        vertical-align: middle;\n",
       "    }\n",
       "\n",
       "    .dataframe tbody tr th {\n",
       "        vertical-align: top;\n",
       "    }\n",
       "\n",
       "    .dataframe thead th {\n",
       "        text-align: right;\n",
       "    }\n",
       "</style>\n",
       "<table border=\"1\" class=\"dataframe\">\n",
       "  <thead>\n",
       "    <tr style=\"text-align: right;\">\n",
       "      <th></th>\n",
       "      <th>comment_id</th>\n",
       "      <th>text</th>\n",
       "      <th>issue_id</th>\n",
       "      <th>author_id</th>\n",
       "    </tr>\n",
       "  </thead>\n",
       "  <tbody>\n",
       "    <tr>\n",
       "      <th>0</th>\n",
       "      <td>11779</td>\n",
       "      <td>[https://www.youtube.com/watch?v=tuhOdtsvoNY|h...</td>\n",
       "      <td>669666</td>\n",
       "      <td>1</td>\n",
       "    </tr>\n",
       "    <tr>\n",
       "      <th>1</th>\n",
       "      <td>10601</td>\n",
       "      <td>OK [~accountid:557058:3f7ab89a-8969-4547-90df-...</td>\n",
       "      <td>669670</td>\n",
       "      <td>1</td>\n",
       "    </tr>\n",
       "    <tr>\n",
       "      <th>2</th>\n",
       "      <td>76101</td>\n",
       "      <td>I encountered a problem with access to `/users...</td>\n",
       "      <td>670930</td>\n",
       "      <td>2</td>\n",
       "    </tr>\n",
       "    <tr>\n",
       "      <th>3</th>\n",
       "      <td>76102</td>\n",
       "      <td>I have learned that `users/:id/emails` endpoin...</td>\n",
       "      <td>670930</td>\n",
       "      <td>2</td>\n",
       "    </tr>\n",
       "    <tr>\n",
       "      <th>4</th>\n",
       "      <td>76213</td>\n",
       "      <td>We have decided with Andrew to set member's em...</td>\n",
       "      <td>670930</td>\n",
       "      <td>2</td>\n",
       "    </tr>\n",
       "  </tbody>\n",
       "</table>\n",
       "</div>"
      ],
      "text/plain": [
       "   comment_id                                               text  issue_id  \\\n",
       "0       11779  [https://www.youtube.com/watch?v=tuhOdtsvoNY|h...    669666   \n",
       "1       10601  OK [~accountid:557058:3f7ab89a-8969-4547-90df-...    669670   \n",
       "2       76101  I encountered a problem with access to `/users...    670930   \n",
       "3       76102  I have learned that `users/:id/emails` endpoin...    670930   \n",
       "4       76213  We have decided with Andrew to set member's em...    670930   \n",
       "\n",
       "   author_id  \n",
       "0          1  \n",
       "1          1  \n",
       "2          2  \n",
       "3          2  \n",
       "4          2  "
      ]
     },
     "execution_count": 10,
     "metadata": {},
     "output_type": "execute_result"
    }
   ],
   "source": [
    "print('Комментариев в трейне', train_comments.shape[0])\n",
    "train_comments.head()"
   ]
  },
  {
   "cell_type": "code",
   "execution_count": 11,
   "metadata": {},
   "outputs": [
    {
     "name": "stdout",
     "output_type": "stream",
     "text": [
      "Комментариев в тесте 1348\n"
     ]
    },
    {
     "data": {
      "text/html": [
       "<div>\n",
       "<style scoped>\n",
       "    .dataframe tbody tr th:only-of-type {\n",
       "        vertical-align: middle;\n",
       "    }\n",
       "\n",
       "    .dataframe tbody tr th {\n",
       "        vertical-align: top;\n",
       "    }\n",
       "\n",
       "    .dataframe thead th {\n",
       "        text-align: right;\n",
       "    }\n",
       "</style>\n",
       "<table border=\"1\" class=\"dataframe\">\n",
       "  <thead>\n",
       "    <tr style=\"text-align: right;\">\n",
       "      <th></th>\n",
       "      <th>comment_id</th>\n",
       "      <th>text</th>\n",
       "      <th>issue_id</th>\n",
       "      <th>author_id</th>\n",
       "    </tr>\n",
       "  </thead>\n",
       "  <tbody>\n",
       "    <tr>\n",
       "      <th>0</th>\n",
       "      <td>76324</td>\n",
       "      <td>I wasted much time building one graph by using...</td>\n",
       "      <td>670929</td>\n",
       "      <td>2</td>\n",
       "    </tr>\n",
       "    <tr>\n",
       "      <th>1</th>\n",
       "      <td>75499</td>\n",
       "      <td>почитал статьи по переносу доменов на клаудфей...</td>\n",
       "      <td>675831</td>\n",
       "      <td>112</td>\n",
       "    </tr>\n",
       "    <tr>\n",
       "      <th>2</th>\n",
       "      <td>75519</td>\n",
       "      <td>Посмотрел еще раз как переносят сайты на клауд...</td>\n",
       "      <td>675831</td>\n",
       "      <td>112</td>\n",
       "    </tr>\n",
       "    <tr>\n",
       "      <th>3</th>\n",
       "      <td>75490</td>\n",
       "      <td>Проверил построчно импортнутые записи в cloudf...</td>\n",
       "      <td>675834</td>\n",
       "      <td>112</td>\n",
       "    </tr>\n",
       "    <tr>\n",
       "      <th>4</th>\n",
       "      <td>75442</td>\n",
       "      <td>Хотел найти способ автоматически перенести зап...</td>\n",
       "      <td>675836</td>\n",
       "      <td>112</td>\n",
       "    </tr>\n",
       "  </tbody>\n",
       "</table>\n",
       "</div>"
      ],
      "text/plain": [
       "   comment_id                                               text  issue_id  \\\n",
       "0       76324  I wasted much time building one graph by using...    670929   \n",
       "1       75499  почитал статьи по переносу доменов на клаудфей...    675831   \n",
       "2       75519  Посмотрел еще раз как переносят сайты на клауд...    675831   \n",
       "3       75490  Проверил построчно импортнутые записи в cloudf...    675834   \n",
       "4       75442  Хотел найти способ автоматически перенести зап...    675836   \n",
       "\n",
       "   author_id  \n",
       "0          2  \n",
       "1        112  \n",
       "2        112  \n",
       "3        112  \n",
       "4        112  "
      ]
     },
     "execution_count": 11,
     "metadata": {},
     "output_type": "execute_result"
    }
   ],
   "source": [
    "print('Комментариев в тесте', test_comments.shape[0])\n",
    "test_comments.head()"
   ]
  },
  {
   "cell_type": "markdown",
   "metadata": {},
   "source": [
    "## Посмотрим на описания заказчиков/исполнителей"
   ]
  },
  {
   "cell_type": "code",
   "execution_count": 32,
   "metadata": {},
   "outputs": [
    {
     "data": {
      "text/html": [
       "<div>\n",
       "<style scoped>\n",
       "    .dataframe tbody tr th:only-of-type {\n",
       "        vertical-align: middle;\n",
       "    }\n",
       "\n",
       "    .dataframe tbody tr th {\n",
       "        vertical-align: top;\n",
       "    }\n",
       "\n",
       "    .dataframe thead th {\n",
       "        text-align: right;\n",
       "    }\n",
       "</style>\n",
       "<table border=\"1\" class=\"dataframe\">\n",
       "  <thead>\n",
       "    <tr style=\"text-align: right;\">\n",
       "      <th></th>\n",
       "      <th>id</th>\n",
       "      <th>active</th>\n",
       "      <th>full_name</th>\n",
       "      <th>position</th>\n",
       "      <th>hiring_type</th>\n",
       "      <th>payment_type</th>\n",
       "      <th>salary_calculation_type</th>\n",
       "      <th>english_level</th>\n",
       "      <th>passport</th>\n",
       "      <th>is_nda_signed</th>\n",
       "      <th>is_labor_contract_signed</th>\n",
       "      <th>is_added_to_internal_chats</th>\n",
       "      <th>is_added_one_to_one</th>\n",
       "    </tr>\n",
       "  </thead>\n",
       "  <tbody>\n",
       "    <tr>\n",
       "      <th>0</th>\n",
       "      <td>1</td>\n",
       "      <td>1</td>\n",
       "      <td>David Courtney</td>\n",
       "      <td>NaN</td>\n",
       "      <td>NaN</td>\n",
       "      <td>NaN</td>\n",
       "      <td>NaN</td>\n",
       "      <td>NaN</td>\n",
       "      <td>0</td>\n",
       "      <td>0</td>\n",
       "      <td>0</td>\n",
       "      <td>0</td>\n",
       "      <td>0</td>\n",
       "    </tr>\n",
       "    <tr>\n",
       "      <th>1</th>\n",
       "      <td>2</td>\n",
       "      <td>0</td>\n",
       "      <td>Dan Guerra</td>\n",
       "      <td>Web-разработчик</td>\n",
       "      <td>staff</td>\n",
       "      <td>fixed</td>\n",
       "      <td>NaN</td>\n",
       "      <td>NaN</td>\n",
       "      <td>0</td>\n",
       "      <td>0</td>\n",
       "      <td>0</td>\n",
       "      <td>0</td>\n",
       "      <td>0</td>\n",
       "    </tr>\n",
       "    <tr>\n",
       "      <th>2</th>\n",
       "      <td>4</td>\n",
       "      <td>0</td>\n",
       "      <td>Grady Smith</td>\n",
       "      <td>Web-разработчик</td>\n",
       "      <td>staff</td>\n",
       "      <td>fixed</td>\n",
       "      <td>NaN</td>\n",
       "      <td>NaN</td>\n",
       "      <td>0</td>\n",
       "      <td>0</td>\n",
       "      <td>0</td>\n",
       "      <td>0</td>\n",
       "      <td>0</td>\n",
       "    </tr>\n",
       "    <tr>\n",
       "      <th>3</th>\n",
       "      <td>6</td>\n",
       "      <td>0</td>\n",
       "      <td>James Powell</td>\n",
       "      <td>Разработчик мобильных приложений</td>\n",
       "      <td>staff</td>\n",
       "      <td>fixed</td>\n",
       "      <td>NaN</td>\n",
       "      <td>NaN</td>\n",
       "      <td>0</td>\n",
       "      <td>0</td>\n",
       "      <td>0</td>\n",
       "      <td>0</td>\n",
       "      <td>0</td>\n",
       "    </tr>\n",
       "    <tr>\n",
       "      <th>4</th>\n",
       "      <td>8</td>\n",
       "      <td>1</td>\n",
       "      <td>John Brown</td>\n",
       "      <td>Разработчик мобильных приложений</td>\n",
       "      <td>staff</td>\n",
       "      <td>fixed</td>\n",
       "      <td>NaN</td>\n",
       "      <td>NaN</td>\n",
       "      <td>1</td>\n",
       "      <td>1</td>\n",
       "      <td>1</td>\n",
       "      <td>1</td>\n",
       "      <td>1</td>\n",
       "    </tr>\n",
       "  </tbody>\n",
       "</table>\n",
       "</div>"
      ],
      "text/plain": [
       "   id  active       full_name                          position hiring_type  \\\n",
       "0   1       1  David Courtney                               NaN         NaN   \n",
       "1   2       0      Dan Guerra                   Web-разработчик       staff   \n",
       "2   4       0     Grady Smith                   Web-разработчик       staff   \n",
       "3   6       0    James Powell  Разработчик мобильных приложений       staff   \n",
       "4   8       1      John Brown  Разработчик мобильных приложений       staff   \n",
       "\n",
       "  payment_type salary_calculation_type english_level  passport  is_nda_signed  \\\n",
       "0          NaN                     NaN           NaN         0              0   \n",
       "1        fixed                     NaN           NaN         0              0   \n",
       "2        fixed                     NaN           NaN         0              0   \n",
       "3        fixed                     NaN           NaN         0              0   \n",
       "4        fixed                     NaN           NaN         1              1   \n",
       "\n",
       "   is_labor_contract_signed  is_added_to_internal_chats  is_added_one_to_one  \n",
       "0                         0                           0                    0  \n",
       "1                         0                           0                    0  \n",
       "2                         0                           0                    0  \n",
       "3                         0                           0                    0  \n",
       "4                         1                           1                    1  "
      ]
     },
     "execution_count": 32,
     "metadata": {},
     "output_type": "execute_result"
    }
   ],
   "source": [
    "employees.head()"
   ]
  },
  {
   "cell_type": "markdown",
   "metadata": {},
   "source": [
    "## Добавим преобразуем данные"
   ]
  },
  {
   "cell_type": "code",
   "execution_count": 13,
   "metadata": {},
   "outputs": [],
   "source": [
    "# рабочая функция лематизации и приведения текстов\n",
    "#stop_words = stopwords.words('english') + stopwords.words('russian')\n",
    "stop_words = stopwords.words('english')\n",
    "patterns = \"0-9[!#$%&'()*+,./:;<=>?@[\\]^_`{|}~—\\\"\\-]+\" # \"0-9[!#$%&'()*+,./:;<=>?@[\\]^_`{|}~—\\\"\\-]+\"  вопрос с удалением чисел !!!!!!!!!!!!!!!!!!!!!!!!!!!!!!!!!!!!!\n",
    "\n",
    "morph = MorphAnalyzer()\n",
    "\n",
    "def lemmatize(doc):\n",
    "    how_many_tokens = 5000 # количсетво первых слов которые будут возвращены\n",
    "    doc = re.sub(patterns, ' ', doc)\n",
    "    tokens = []\n",
    "    for token in doc.split():\n",
    "        if token and token not in stop_words:\n",
    "            token = token.strip()\n",
    "            token = morph.normal_forms(token)[0]\n",
    "            \n",
    "            tokens.append(token)\n",
    "    if len(tokens) >= 2: # условие длинный слова !!!\n",
    "        return tokens[0:how_many_tokens] #str(' '.join(tokens[0:how_many_tokens]))\n",
    "    return None\n"
   ]
  },
  {
   "cell_type": "code",
   "execution_count": 14,
   "metadata": {},
   "outputs": [],
   "source": [
    "\n",
    "def transform(train_issues, train_comments, employees):\n",
    "    # Убрали столбец с временем создани задачи\n",
    "    # Добавили столбец с количеством коментов\n",
    "    train = train_issues.drop(columns=['created', 'key'], axis=1)\n",
    "    train['lematize_summary'] = train_issues['summary'].apply(lemmatize).fillna('NotDefined')\n",
    "    train = pd.merge(train, train_comments.groupby(by='issue_id').count()['text'], left_on=\"id\", right_on=\"issue_id\", how='left').fillna(0)\n",
    "    train.rename(columns={'text':'comments'}, inplace=True)\n",
    "    employees_data = employees.drop(columns=['active', 'full_name', 'salary_calculation_type', 'english_level']).fillna('NotDefined')\n",
    "    mployees_data = employees_data.drop(columns=['is_nda_signed', 'is_labor_contract_signed', 'is_added_one_to_one'], inplace=True)\n",
    "    # добавим столбец с суммой комментариев\n",
    "    train = pd.merge(train, train_comments.groupby('issue_id')['text'].apply(lambda x: ' '.join(x)), left_on=\"id\", right_on=\"issue_id\", how='left').fillna('NotDefined')\n",
    "    train['lematize_comments'] = train['text'].apply(lemmatize).fillna('NotDefined')\n",
    "    train.drop(columns='text', inplace=True)\n",
    "    # добавили в train данные исполнителя, заказчика оставили просто как id\n",
    "    train = pd.merge(train, employees_data.iloc[:,0:], left_on=\"assignee_id\", right_on=\"id\", how='left')\n",
    "    # удалим лишние столбцы В ТОМ ЧИСЛЕ SUMMARY пока нет NLP модели\n",
    "    train.drop(columns=['id_y', 'id_x',  'summary', 'assignee_id'], inplace=True)\n",
    "    return(train)"
   ]
  },
  {
   "cell_type": "code",
   "execution_count": 15,
   "metadata": {},
   "outputs": [],
   "source": [
    "def vectorize(list_of_docs, model):\n",
    "    \"\"\"Generate vectors for list of documents using a Word Embedding\n",
    "\n",
    "    Args:\n",
    "        list_of_docs: List of documents\n",
    "        model: Gensim's Word Embedding\n",
    "\n",
    "    Returns:\n",
    "        List of document vectors\n",
    "    \"\"\"\n",
    "    features = []\n",
    "\n",
    "    for tokens in list_of_docs:\n",
    "        zero_vector = np.zeros(model.vector_size)\n",
    "        vectors = []\n",
    "        for token in tokens:\n",
    "            if token in model.wv:\n",
    "                try:\n",
    "                    vectors.append(model.wv[token])\n",
    "                except KeyError:\n",
    "                    continue\n",
    "        if vectors:\n",
    "            vectors = np.asarray(vectors)\n",
    "            avg_vec = vectors.mean(axis=0)\n",
    "            features.append(avg_vec)\n",
    "        else:\n",
    "            features.append(zero_vector)\n",
    "    return features\n",
    " "
   ]
  },
  {
   "cell_type": "code",
   "execution_count": 16,
   "metadata": {},
   "outputs": [],
   "source": [
    "train_transform = transform(train_issues, train_comments, employees)\n",
    "test_transform = transform(test_issues, test_comments, employees)"
   ]
  },
  {
   "cell_type": "code",
   "execution_count": 19,
   "metadata": {},
   "outputs": [],
   "source": [
    "# интересная попытка избавится от криэйторов и исполнителей которых нет в трейне (но есть в тесте)\n",
    "# не дает результат\n",
    "#test_assignee_list = test_issues['assignee_id'].value_counts().index\n",
    "#test_creator_list = test_issues['creator_id'].value_counts().index\n",
    "#train_issues[(train_issues['assignee_id'].isin(test_assignee_list))&(train_issues['creator_id'].isin(test_creator_list))]"
   ]
  },
  {
   "cell_type": "code",
   "execution_count": 17,
   "metadata": {},
   "outputs": [
    {
     "data": {
      "text/html": [
       "<div>\n",
       "<style scoped>\n",
       "    .dataframe tbody tr th:only-of-type {\n",
       "        vertical-align: middle;\n",
       "    }\n",
       "\n",
       "    .dataframe tbody tr th {\n",
       "        vertical-align: top;\n",
       "    }\n",
       "\n",
       "    .dataframe thead th {\n",
       "        text-align: right;\n",
       "    }\n",
       "</style>\n",
       "<table border=\"1\" class=\"dataframe\">\n",
       "  <thead>\n",
       "    <tr style=\"text-align: right;\">\n",
       "      <th></th>\n",
       "      <th>project_id</th>\n",
       "      <th>creator_id</th>\n",
       "      <th>overall_worklogs</th>\n",
       "      <th>lematize_summary</th>\n",
       "      <th>comments</th>\n",
       "      <th>lematize_comments</th>\n",
       "      <th>position</th>\n",
       "      <th>hiring_type</th>\n",
       "      <th>payment_type</th>\n",
       "      <th>passport</th>\n",
       "      <th>is_added_to_internal_chats</th>\n",
       "    </tr>\n",
       "  </thead>\n",
       "  <tbody>\n",
       "    <tr>\n",
       "      <th>0</th>\n",
       "      <td>5</td>\n",
       "      <td>93</td>\n",
       "      <td>1800</td>\n",
       "      <td>[ui, tests, commissioned, dobro, kg]</td>\n",
       "      <td>0.0</td>\n",
       "      <td>NotDefined</td>\n",
       "      <td>Разработчик мобильных приложений</td>\n",
       "      <td>staff</td>\n",
       "      <td>fixed</td>\n",
       "      <td>1</td>\n",
       "      <td>1</td>\n",
       "    </tr>\n",
       "    <tr>\n",
       "      <th>1</th>\n",
       "      <td>5</td>\n",
       "      <td>93</td>\n",
       "      <td>7200</td>\n",
       "      <td>[ui, tests, \"profile\", section]</td>\n",
       "      <td>1.0</td>\n",
       "      <td>[приверить, и, принять, mr]</td>\n",
       "      <td>Разработчик мобильных приложений</td>\n",
       "      <td>staff</td>\n",
       "      <td>fixed</td>\n",
       "      <td>1</td>\n",
       "      <td>1</td>\n",
       "    </tr>\n",
       "    <tr>\n",
       "      <th>2</th>\n",
       "      <td>5</td>\n",
       "      <td>93</td>\n",
       "      <td>14400</td>\n",
       "      <td>[ui, tests, section, \"personal, account\"]</td>\n",
       "      <td>0.0</td>\n",
       "      <td>NotDefined</td>\n",
       "      <td>Разработчик мобильных приложений</td>\n",
       "      <td>staff</td>\n",
       "      <td>fixed</td>\n",
       "      <td>1</td>\n",
       "      <td>1</td>\n",
       "    </tr>\n",
       "    <tr>\n",
       "      <th>3</th>\n",
       "      <td>5</td>\n",
       "      <td>93</td>\n",
       "      <td>900</td>\n",
       "      <td>[ui, tests, \"news\", section]</td>\n",
       "      <td>0.0</td>\n",
       "      <td>NotDefined</td>\n",
       "      <td>Разработчик мобильных приложений</td>\n",
       "      <td>staff</td>\n",
       "      <td>fixed</td>\n",
       "      <td>1</td>\n",
       "      <td>1</td>\n",
       "    </tr>\n",
       "    <tr>\n",
       "      <th>4</th>\n",
       "      <td>5</td>\n",
       "      <td>93</td>\n",
       "      <td>900</td>\n",
       "      <td>[ui, tests, \"zones, discounts, surcharges\", se...</td>\n",
       "      <td>1.0</td>\n",
       "      <td>[принять, mr]</td>\n",
       "      <td>Разработчик мобильных приложений</td>\n",
       "      <td>staff</td>\n",
       "      <td>fixed</td>\n",
       "      <td>1</td>\n",
       "      <td>1</td>\n",
       "    </tr>\n",
       "  </tbody>\n",
       "</table>\n",
       "</div>"
      ],
      "text/plain": [
       "   project_id  creator_id  overall_worklogs  \\\n",
       "0           5          93              1800   \n",
       "1           5          93              7200   \n",
       "2           5          93             14400   \n",
       "3           5          93               900   \n",
       "4           5          93               900   \n",
       "\n",
       "                                    lematize_summary  comments  \\\n",
       "0               [ui, tests, commissioned, dobro, kg]       0.0   \n",
       "1                    [ui, tests, \"profile\", section]       1.0   \n",
       "2          [ui, tests, section, \"personal, account\"]       0.0   \n",
       "3                       [ui, tests, \"news\", section]       0.0   \n",
       "4  [ui, tests, \"zones, discounts, surcharges\", se...       1.0   \n",
       "\n",
       "             lematize_comments                          position hiring_type  \\\n",
       "0                   NotDefined  Разработчик мобильных приложений       staff   \n",
       "1  [приверить, и, принять, mr]  Разработчик мобильных приложений       staff   \n",
       "2                   NotDefined  Разработчик мобильных приложений       staff   \n",
       "3                   NotDefined  Разработчик мобильных приложений       staff   \n",
       "4                [принять, mr]  Разработчик мобильных приложений       staff   \n",
       "\n",
       "  payment_type  passport  is_added_to_internal_chats  \n",
       "0        fixed         1                           1  \n",
       "1        fixed         1                           1  \n",
       "2        fixed         1                           1  \n",
       "3        fixed         1                           1  \n",
       "4        fixed         1                           1  "
      ]
     },
     "execution_count": 17,
     "metadata": {},
     "output_type": "execute_result"
    }
   ],
   "source": [
    "# датафрейм после всех преобразовани1\n",
    "# comments - количсетво коментариев к задаче\n",
    "train_transform.head()"
   ]
  },
  {
   "cell_type": "code",
   "execution_count": null,
   "metadata": {},
   "outputs": [],
   "source": []
  },
  {
   "cell_type": "code",
   "execution_count": 20,
   "metadata": {},
   "outputs": [],
   "source": [
    "#  кластеризуем описания задачи по всем объектам трейн + тест\n",
    "for_vect = pd.DataFrame(columns=['summary','comments'])\n",
    "for_vect['summary'] = train_transform['lematize_summary'].append(test_transform['lematize_summary'], ignore_index=True) # длина трейновой части 9589, 0:9589\n",
    "for_vect['comments'] = train_transform['lematize_comments'].append(test_transform['lematize_comments'], ignore_index=True) # длина трейновой части 9589, 0:9589\n",
    "model_summary = Word2Vec(sentences=for_vect['summary'], vector_size=100, workers=1, seed=SEED)\n",
    "model_comments = Word2Vec(sentences=for_vect['comments'], vector_size=1000, workers=1, seed=SEED)\n",
    "vectorized_summary = vectorize(for_vect['summary'], model=model_summary)\n",
    "vectorized_comments = vectorize(for_vect['comments'], model=model_comments)"
   ]
  },
  {
   "cell_type": "code",
   "execution_count": 21,
   "metadata": {},
   "outputs": [
    {
     "data": {
      "image/png": "[encoded data removed]",
      "text/plain": [
       "<Figure size 720x720 with 1 Axes>"
      ]
     },
     "metadata": {
      "needs_background": "light"
     },
     "output_type": "display_data"
    }
   ],
   "source": [
    "# кластеризация задач\n",
    "from sklearn.cluster import KMeans\n",
    "inertia = []\n",
    "for k in range(1,30,1):\n",
    "    mbk  = KMeans(n_clusters=k,init='random', random_state=1).fit(vectorized_summary)\n",
    "    inertia.append(np.sqrt(mbk.inertia_))\n",
    "plt.figure(figsize=(10, 10))\n",
    "plt.plot(range(1,30,1),inertia,marker='s')\n",
    "plt.xlabel('K')\n",
    "plt.ylabel('(C_k)')\n",
    "plt.show()"
   ]
  },
  {
   "cell_type": "code",
   "execution_count": 22,
   "metadata": {},
   "outputs": [
    {
     "data": {
      "image/png": "[encoded data removed]",
      "text/plain": [
       "<Figure size 720x720 with 1 Axes>"
      ]
     },
     "metadata": {
      "needs_background": "light"
     },
     "output_type": "display_data"
    }
   ],
   "source": [
    "# кластеризация комментов\n",
    "from sklearn.cluster import KMeans\n",
    "inertia = []\n",
    "for k in range(1,30,1):\n",
    "    mbk  = KMeans(n_clusters=k,init='random', random_state=1).fit(vectorized_comments)\n",
    "    inertia.append(np.sqrt(mbk.inertia_))\n",
    "plt.figure(figsize=(10, 10))\n",
    "plt.plot(range(1,30,1),inertia,marker='s')\n",
    "plt.xlabel('K')\n",
    "plt.ylabel('(C_k)')\n",
    "plt.show()"
   ]
  },
  {
   "cell_type": "code",
   "execution_count": 23,
   "metadata": {},
   "outputs": [],
   "source": [
    "# добавление столбца с кластерами задач\n",
    "n_kluster_summary = 8\n",
    "mbk  = KMeans(n_clusters=n_kluster_summary,init='random').fit(vectorized_summary)\n",
    "y_kmeansMBK = mbk.predict(vectorized_summary)\n",
    "Num = [] \n",
    "Num = [pt for pt in y_kmeansMBK]\n",
    "df2 = {\"Num_Cluster\": Num}\n",
    "dfMBK = pd.DataFrame(df2)\n",
    "train_transform['cluster_summary'] = dfMBK.iloc[0:9086, 0]\n",
    "test_transform['cluster_summary'] = dfMBK.iloc[9086:, 0].reset_index(drop=True)"
   ]
  },
  {
   "cell_type": "code",
   "execution_count": 24,
   "metadata": {},
   "outputs": [],
   "source": [
    "# добавление столбца с кластерами комментов\n",
    "n_kluster_comments = 6\n",
    "mbk  = KMeans(n_clusters=n_kluster_comments,init='random').fit(vectorized_comments)\n",
    "y_kmeansMBK = mbk.predict(vectorized_comments)\n",
    "Num = [] \n",
    "Num = [pt for pt in y_kmeansMBK]\n",
    "df2 = {\"Num_Cluster\": Num}\n",
    "dfMBK = pd.DataFrame(df2)\n",
    "train_transform['cluster_comments'] = dfMBK.iloc[0:9086, 0]\n",
    "test_transform['cluster_comments'] = dfMBK.iloc[9086:, 0].reset_index(drop=True)\n"
   ]
  },
  {
   "cell_type": "code",
   "execution_count": 25,
   "metadata": {},
   "outputs": [],
   "source": [
    "\n",
    "train_transform.drop(columns=['lematize_summary', 'lematize_comments'], inplace=True)\n",
    "test_transform.drop(columns=['lematize_summary', 'lematize_comments'], inplace=True)"
   ]
  },
  {
   "cell_type": "code",
   "execution_count": 47,
   "metadata": {},
   "outputs": [],
   "source": [
    "# избавимся от криэйторов и исполнителей которых нет в трейне (но есть в тесте)\n",
    "#test_assignee_list = test_issues['assignee_id'].value_counts().index\n",
    "#test_creator_list = test_issues['creator_id'].value_counts().index\n",
    "#train_transform = train_transform[(train_issues['assignee_id'].isin(test_assignee_list))&(train_issues['creator_id'].isin(test_creator_list))]"
   ]
  },
  {
   "cell_type": "code",
   "execution_count": 26,
   "metadata": {},
   "outputs": [],
   "source": [
    "X = train_transform.drop(columns=['overall_worklogs'])\n",
    "y = train_transform['overall_worklogs']\n",
    "X_train, X_test, y_train, y_test = train_test_split(X, y, test_size=0.33, random_state=42)"
   ]
  },
  {
   "cell_type": "code",
   "execution_count": 27,
   "metadata": {},
   "outputs": [
    {
     "data": {
      "application/vnd.jupyter.widget-view+json": {
       "model_id": "f0cf3a65bf03458dbb4aab597c6e9df1",
       "version_major": 2,
       "version_minor": 0
      },
      "text/plain": [
       "MetricVisualizer(layout=Layout(align_self='stretch', height='500px'))"
      ]
     },
     "metadata": {},
     "output_type": "display_data"
    },
    {
     "data": {
      "text/plain": [
       "<catboost.core.CatBoostRegressor at 0x22b42faa070>"
      ]
     },
     "execution_count": 27,
     "metadata": {},
     "output_type": "execute_result"
    }
   ],
   "source": [
    "from catboost import CatBoostRegressor\n",
    "cat = CatBoostRegressor(iterations=1000)\n",
    "cat.fit(X_train,y_train,verbose=False, plot=True, cat_features=['project_id','creator_id',\n",
    "'position','hiring_type','payment_type','passport','is_added_to_internal_chats', 'cluster_summary', 'cluster_comments'])"
   ]
  },
  {
   "cell_type": "code",
   "execution_count": 31,
   "metadata": {},
   "outputs": [
    {
     "name": "stdout",
     "output_type": "stream",
     "text": [
      "R2 =  0.12532557350179596\n"
     ]
    }
   ],
   "source": [
    "expected_y  = y_test\n",
    "predicted_y = cat.predict(X_test)\n",
    "predicted_y = [600 if x<600 else x for x in predicted_y]\n",
    "predicted_y = list(map(lambda x: x-x % -100, predicted_y))\n",
    "print('R2 = ',r2_score(expected_y, predicted_y ))\n"
   ]
  }
 ],
 "metadata": {
  "kernelspec": {
   "display_name": "Python 3.9.7 ('base')",
   "language": "python",
   "name": "python3"
  },
  "language_info": {
   "codemirror_mode": {
    "name": "ipython",
    "version": 3
   },
   "file_extension": ".py",
   "mimetype": "text/x-python",
   "name": "python",
   "nbconvert_exporter": "python",
   "pygments_lexer": "ipython3",
   "version": "3.9.7"
  },
  "orig_nbformat": 4,
  "vscode": {
   "interpreter": {
    "hash": "c0fbb0ce8cdd535267a1474e8612decf41d6983b57d829546a25a2ccc69369e3"
   }
  }
 },
 "nbformat": 4,
 "nbformat_minor": 2
}
